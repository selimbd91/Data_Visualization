{
 "cells": [
  {
   "cell_type": "code",
   "execution_count": 31,
   "metadata": {},
   "outputs": [
    {
     "name": "stdout",
     "output_type": "stream",
     "text": [
      "Enter the range > 50\n",
      "1\n",
      "3\n",
      "5\n",
      "7\n",
      "11\n",
      "13\n",
      "17\n",
      "19\n",
      "23\n",
      "29\n",
      "31\n",
      "37\n",
      "41\n",
      "43\n",
      "47\n"
     ]
    }
   ],
   "source": [
    "def prime_number(num):\n",
    "    \n",
    "    if num%2 == 0:\n",
    "        return False\n",
    "    if num == 3:\n",
    "        return True\n",
    "    \n",
    "    for i in range(3, (num+1)//2, 2):\n",
    "        if num % i== 0:\n",
    "            return False\n",
    "    return True\n",
    "\n",
    "def prime_number_generator():\n",
    "    rang = int(input('what is the range for prime number > '))\n",
    "    for i in range(2, rang):\n",
    "        count = 0\n",
    "        for j in range(2, (i//2)+1):\n",
    "            if i % j == 0:\n",
    "                count+=1\n",
    "                break\n",
    "        if count == 0:\n",
    "            print(i)\n",
    "def checking_prime():\n",
    "    \n",
    "    vla = int(input('Enter the range > '))\n",
    "    for i in range(1, vla):\n",
    "        if prime_number(i):\n",
    "            print(i)\n",
    "    \n",
    "def main():\n",
    "#     value = int(input('Enter the number > '))\n",
    "#     if prime_number(value):\n",
    "#         print(f'{value} is a prime number.')\n",
    "#     else:\n",
    "#         print(f'{value} is not a prime number')\n",
    "    #prime_number_generator()\n",
    "    checking_prime()\n",
    "        \n",
    "if __name__ == '__main__':\n",
    "    main()"
   ]
  },
  {
   "cell_type": "code",
   "execution_count": 22,
   "metadata": {},
   "outputs": [],
   "source": [
    "for i in range(3, 2):\n",
    "    print('hello')"
   ]
  },
  {
   "cell_type": "code",
   "execution_count": 68,
   "metadata": {},
   "outputs": [
    {
     "name": "stdout",
     "output_type": "stream",
     "text": [
      "Name :karim, age : 34, Height : 123 and Date of Birth : janurary\n",
      "Name :rahim, age : 56, Height : 34 and Date of Birth : invlid\n"
     ]
    }
   ],
   "source": [
    "class Person:\n",
    "    \n",
    "    def __init__(self, name: str, age: int, height: float, dob: str = None):\n",
    "        self.name = name\n",
    "        self.age = age\n",
    "        self.height = height\n",
    "        self.dob = dob\n",
    "        \n",
    "    def checking_name(self, name):\n",
    "        if '0' in name:\n",
    "            return True\n",
    "        else:\n",
    "            return False\n",
    "        \n",
    "    def get_age(self):\n",
    "        return self.age\n",
    "        \n",
    "    def set_name(self, name):\n",
    "        if self.checking_name(name):\n",
    "            print('sorry can not have the number in name')\n",
    "        else:\n",
    "            self.name = name\n",
    "        \n",
    "    def get_summary(self):\n",
    "        return f'Name :{self.name}, age : {self.age}, Height : {self.height} and Date of Birth : {self.dob if self.dob is not None else \"invlid\"}'\n",
    "        \n",
    "person_list = [Person('selim',29, 1.65, '10 feb 1991'),\n",
    "              Person('roman', 26, 1.67, '12 jan 1992'),\n",
    "              Person('karim', 34, 123, 'janurary'),\n",
    "              Person('rahim', 56, 34),\n",
    "              Person('motin', 23, 32, 'march')]\n",
    "\n",
    "for person in person_list:\n",
    "    if person.get_age() > 30:\n",
    "        print(person.get_summary())\n"
   ]
  },
  {
   "cell_type": "code",
   "execution_count": null,
   "metadata": {},
   "outputs": [],
   "source": []
  }
 ],
 "metadata": {
  "kernelspec": {
   "display_name": "Python 3",
   "language": "python",
   "name": "python3"
  },
  "language_info": {
   "codemirror_mode": {
    "name": "ipython",
    "version": 3
   },
   "file_extension": ".py",
   "mimetype": "text/x-python",
   "name": "python",
   "nbconvert_exporter": "python",
   "pygments_lexer": "ipython3",
   "version": "3.7.4"
  }
 },
 "nbformat": 4,
 "nbformat_minor": 2
}
