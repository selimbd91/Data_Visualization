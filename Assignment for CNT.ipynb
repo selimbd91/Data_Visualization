{
 "cells": [
  {
   "cell_type": "code",
   "execution_count": 1,
   "metadata": {},
   "outputs": [],
   "source": [
    "import numpy as np"
   ]
  },
  {
   "cell_type": "markdown",
   "metadata": {},
   "source": [
    "$${mean} = {1 \\over N}\\sum\\limits_{i= 1}^{N}x_i$$"
   ]
  },
  {
   "cell_type": "code",
   "execution_count": 2,
   "metadata": {},
   "outputs": [],
   "source": [
    "def calculate_mean(values):\n",
    "    \n",
    "    length = len(values)\n",
    "    print(f'the length is:{length}')\n",
    "    total_sum = 0\n",
    "    for i in values:\n",
    "        total_sum += i\n",
    "    mean = total_sum / length\n",
    "    return mean"
   ]
  },
  {
   "cell_type": "markdown",
   "metadata": {},
   "source": [
    "$${std} = {1 \\over N}\\sum\\limits_{i= 1}^{N}{(x_i - mean)^2}$$"
   ]
  },
  {
   "cell_type": "code",
   "execution_count": 3,
   "metadata": {},
   "outputs": [],
   "source": [
    "def calculate_std(values, mean):\n",
    "    \n",
    "    sos = 0 #sos= sum of squre\n",
    "    \n",
    "    for i in values:\n",
    "        sos += (i - mean)**2\n",
    "    standard_division = np.sqrt(sos / len(values))\n",
    "    print('standard deviation= ', standard_division)"
   ]
  },
  {
   "cell_type": "code",
   "execution_count": 4,
   "metadata": {},
   "outputs": [],
   "source": [
    "   \n",
    "def main():\n",
    "    empty_array = np.empty(shape= 20)\n",
    "    for i in range(20):\n",
    "        random_values = input('Enter the floating values:')\n",
    "        empty_array[i] = random_values\n",
    "    print(empty_array)\n",
    "    mean = calculate_mean(empty_array)\n",
    "    print('the mean= ', mean)\n",
    "    calculate_std(empty_array, mean)"
   ]
  },
  {
   "cell_type": "code",
   "execution_count": 5,
   "metadata": {},
   "outputs": [
    {
     "name": "stdout",
     "output_type": "stream",
     "text": [
      "Enter the floating values:4\n",
      "Enter the floating values:32\n",
      "Enter the floating values:5\n",
      "Enter the floating values:3\n",
      "Enter the floating values:6\n",
      "Enter the floating values:4\n",
      "Enter the floating values:7\n",
      "Enter the floating values:5\n",
      "Enter the floating values:3\n",
      "Enter the floating values:2\n",
      "Enter the floating values:4\n",
      "Enter the floating values:6\n",
      "Enter the floating values:7\n",
      "Enter the floating values:4\n",
      "Enter the floating values:3\n",
      "Enter the floating values:5\n",
      "Enter the floating values:2\n",
      "Enter the floating values:7\n",
      "Enter the floating values:5\n",
      "Enter the floating values:4\n",
      "[ 4. 32.  5.  3.  6.  4.  7.  5.  3.  2.  4.  6.  7.  4.  3.  5.  2.  7.\n",
      "  5.  4.]\n",
      "the length is:20\n",
      "the mean=  5.9\n",
      "standard deviation=  6.171709649683789\n"
     ]
    }
   ],
   "source": [
    "if __name__ == '__main__':\n",
    "    main()"
   ]
  }
 ],
 "metadata": {
  "kernelspec": {
   "display_name": "Python 3",
   "language": "python",
   "name": "python3"
  },
  "language_info": {
   "codemirror_mode": {
    "name": "ipython",
    "version": 3
   },
   "file_extension": ".py",
   "mimetype": "text/x-python",
   "name": "python",
   "nbconvert_exporter": "python",
   "pygments_lexer": "ipython3",
   "version": "3.7.4"
  }
 },
 "nbformat": 4,
 "nbformat_minor": 2
}
