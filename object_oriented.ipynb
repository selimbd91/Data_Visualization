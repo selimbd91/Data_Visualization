{
 "cells": [
  {
   "cell_type": "code",
   "execution_count": 27,
   "metadata": {},
   "outputs": [
    {
     "data": {
      "text/plain": [
       "'German Dog is shouting bak bak and its speed 45'"
      ]
     },
     "execution_count": 27,
     "metadata": {},
     "output_type": "execute_result"
    }
   ],
   "source": [
    "\n",
    "class Animal:\n",
    "    def __init__(self, name: str, origin: str, age: int):\n",
    "        self.name = name\n",
    "        self.origin = origin\n",
    "        self.age = age\n",
    "        \n",
    "    def set_name(self, name):\n",
    "        if self.is_check(name):\n",
    "            print(f'{name} is a wrong name')\n",
    "        else:\n",
    "            self.name = name\n",
    "    def is_check(self, name):\n",
    "        if '0' in name or '1' in name:\n",
    "            return True\n",
    "        else:\n",
    "            return False\n",
    "        \n",
    "    def get_name(self):\n",
    "        return self.name\n",
    "        \n",
    "    def get_summery(self):\n",
    "        return f\"Name: {self.name}, Origin: {self.origin} and Age: {self.age}\"\n",
    "    \n",
    "\n",
    "class Dog(Animal):\n",
    "    def __init__(self, name, origin, age, shout, speed):\n",
    "        super().__init__(name, origin, age)\n",
    "        self.shout = shout\n",
    "        self.speed = speed\n",
    "        \n",
    "    def get_shout(self):\n",
    "        return self.shout\n",
    "    \n",
    "    def get_speed(self):\n",
    "        return self.speed*1.5\n",
    "    \n",
    "    def get_summery(self):\n",
    "        return f'{self.get_name()} is shouting {self.shout} and its speed {self.speed}'\n",
    "    \n",
    "ani_1 = Animal('dog', 'india', 10)\n",
    "ani_1.get_summery()\n",
    "ani_2 = Dog('German Dog', 'Germany', 23, 'bak bak', 45)\n",
    "ani_2.get_summery()\n",
    "    "
   ]
  }
 ],
 "metadata": {
  "kernelspec": {
   "display_name": "Python 3",
   "language": "python",
   "name": "python3"
  },
  "language_info": {
   "codemirror_mode": {
    "name": "ipython",
    "version": 3
   },
   "file_extension": ".py",
   "mimetype": "text/x-python",
   "name": "python",
   "nbconvert_exporter": "python",
   "pygments_lexer": "ipython3",
   "version": "3.7.4"
  }
 },
 "nbformat": 4,
 "nbformat_minor": 2
}
